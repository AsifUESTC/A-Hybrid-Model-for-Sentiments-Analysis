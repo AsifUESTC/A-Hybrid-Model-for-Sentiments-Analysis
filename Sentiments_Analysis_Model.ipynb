{
  "cells": [
    {
      "cell_type": "markdown",
      "metadata": {
        "_cell_guid": "b1076dfc-b9ad-4769-8c92-a6c4dae69d19",
        "_uuid": "8f2839f25d086af736a60e9eeb907d3b93b6e0e5",
        "id": "KD162vxrTW9J",
        "trusted": true
      },
      "source": [
        "**Sentiment Analysis of IMDB Movie Reviews**"
      ]
    },
    {
      "cell_type": "markdown",
      "metadata": {
        "id": "wiAUaT4KTW9L"
      },
      "source": [
        "**Problem Statement:**\n",
        "\n",
        "In this, we have to predict the number of positive and negative reviews based on sentiments by using different classification models."
      ]
    },
    {
      "cell_type": "markdown",
      "metadata": {
        "_uuid": "1424638f5259100af9f9a5c1b05bd23cf5b71e51",
        "id": "raJOdVLVTW9M"
      },
      "source": [
        "**Import necessary libraries**"
      ]
    },
    {
      "cell_type": "code",
      "execution_count": 2,
      "metadata": {
        "_cell_guid": "79c7e3d0-c299-4dcb-8224-4455121ee9b0",
        "_uuid": "d629ff2d2480ee46fbb7e2d37f6b5fab8052498a",
        "colab": {
          "base_uri": "https://localhost:8080/"
        },
        "id": "0bXlG2KQTW9M",
        "outputId": "b036db87-8d73-4632-cf46-7873349c6084",
        "trusted": true
      },
      "outputs": [
        {
          "name": "stdout",
          "output_type": "stream",
          "text": [
            "Requirement already satisfied: wordcloud in c:\\users\\mdsha\\anaconda3\\lib\\site-packages (1.9.3)\n",
            "Requirement already satisfied: numpy>=1.6.1 in c:\\users\\mdsha\\anaconda3\\lib\\site-packages (from wordcloud) (1.26.4)\n",
            "Requirement already satisfied: pillow in c:\\users\\mdsha\\anaconda3\\lib\\site-packages (from wordcloud) (10.2.0)\n",
            "Requirement already satisfied: matplotlib in c:\\users\\mdsha\\anaconda3\\lib\\site-packages (from wordcloud) (3.8.0)\n",
            "Requirement already satisfied: contourpy>=1.0.1 in c:\\users\\mdsha\\anaconda3\\lib\\site-packages (from matplotlib->wordcloud) (1.2.0)\n",
            "Requirement already satisfied: cycler>=0.10 in c:\\users\\mdsha\\anaconda3\\lib\\site-packages (from matplotlib->wordcloud) (0.11.0)\n",
            "Requirement already satisfied: fonttools>=4.22.0 in c:\\users\\mdsha\\anaconda3\\lib\\site-packages (from matplotlib->wordcloud) (4.25.0)\n",
            "Requirement already satisfied: kiwisolver>=1.0.1 in c:\\users\\mdsha\\anaconda3\\lib\\site-packages (from matplotlib->wordcloud) (1.4.4)\n",
            "Requirement already satisfied: packaging>=20.0 in c:\\users\\mdsha\\anaconda3\\lib\\site-packages (from matplotlib->wordcloud) (23.1)\n",
            "Requirement already satisfied: pyparsing>=2.3.1 in c:\\users\\mdsha\\anaconda3\\lib\\site-packages (from matplotlib->wordcloud) (3.0.9)\n",
            "Requirement already satisfied: python-dateutil>=2.7 in c:\\users\\mdsha\\anaconda3\\lib\\site-packages (from matplotlib->wordcloud) (2.8.2)\n",
            "Requirement already satisfied: six>=1.5 in c:\\users\\mdsha\\anaconda3\\lib\\site-packages (from python-dateutil>=2.7->matplotlib->wordcloud) (1.16.0)\n",
            "Requirement already satisfied: textblob in c:\\users\\mdsha\\anaconda3\\lib\\site-packages (0.18.0.post0)\n",
            "Requirement already satisfied: nltk>=3.8 in c:\\users\\mdsha\\anaconda3\\lib\\site-packages (from textblob) (3.8.1)\n",
            "Requirement already satisfied: click in c:\\users\\mdsha\\anaconda3\\lib\\site-packages (from nltk>=3.8->textblob) (8.1.7)\n",
            "Requirement already satisfied: joblib in c:\\users\\mdsha\\anaconda3\\lib\\site-packages (from nltk>=3.8->textblob) (1.2.0)\n",
            "Requirement already satisfied: regex>=2021.8.3 in c:\\users\\mdsha\\anaconda3\\lib\\site-packages (from nltk>=3.8->textblob) (2023.10.3)\n",
            "Requirement already satisfied: tqdm in c:\\users\\mdsha\\anaconda3\\lib\\site-packages (from nltk>=3.8->textblob) (4.65.0)\n",
            "Requirement already satisfied: colorama in c:\\users\\mdsha\\anaconda3\\lib\\site-packages (from click->nltk>=3.8->textblob) (0.4.6)\n"
          ]
        },
        {
          "name": "stderr",
          "output_type": "stream",
          "text": [
            "[nltk_data] Downloading package stopwords to\n",
            "[nltk_data]     C:\\Users\\mdsha\\AppData\\Roaming\\nltk_data...\n",
            "[nltk_data]   Package stopwords is already up-to-date!\n",
            "[nltk_data] Downloading package punkt to\n",
            "[nltk_data]     C:\\Users\\mdsha\\AppData\\Roaming\\nltk_data...\n",
            "[nltk_data]   Package punkt is already up-to-date!\n",
            "[nltk_data] Downloading package wordnet to\n",
            "[nltk_data]     C:\\Users\\mdsha\\AppData\\Roaming\\nltk_data...\n",
            "[nltk_data]   Package wordnet is already up-to-date!\n",
            "[nltk_data] Downloading package averaged_perceptron_tagger to\n",
            "[nltk_data]     C:\\Users\\mdsha\\AppData\\Roaming\\nltk_data...\n",
            "[nltk_data]   Package averaged_perceptron_tagger is already up-to-\n",
            "[nltk_data]       date!\n"
          ]
        },
        {
          "data": {
            "text/plain": [
              "True"
            ]
          },
          "execution_count": 2,
          "metadata": {},
          "output_type": "execute_result"
        }
      ],
      "source": [
        "# Load the libraries\n",
        "import numpy as np\n",
        "import pandas as pd\n",
        "# import seaborn as sns  # Uncomment if you're doing visualizations\n",
        "# import matplotlib.pyplot as plt  # Uncomment if you're doing visualizations\n",
        "import nltk\n",
        "from sklearn.feature_extraction.text import CountVectorizer, TfidfVectorizer\n",
        "from sklearn.preprocessing import LabelBinarizer\n",
        "from nltk.corpus import stopwords\n",
        "# from nltk.stem.porter import PorterStemmer  # Consider removing if you'll use lemmatization\n",
        "!pip install wordcloud\n",
        "from wordcloud import WordCloud, STOPWORDS\n",
        "# Importing WordNetLemmatizer once\n",
        "from nltk.stem import WordNetLemmatizer\n",
        "from nltk.tokenize import word_tokenize\n",
        "from bs4 import BeautifulSoup\n",
        "import re, string, unicodedata\n",
        "from nltk.tokenize.toktok import ToktokTokenizer\n",
        "from sklearn.linear_model import LogisticRegression, SGDClassifier\n",
        "from sklearn.naive_bayes import MultinomialNB\n",
        "from sklearn.svm import SVC\n",
        "!pip install textblob\n",
        "from textblob import TextBlob\n",
        "from sklearn.metrics import classification_report, confusion_matrix, accuracy_score\n",
        "import matplotlib.pyplot as plt\n",
        "import seaborn as sns\n",
        "from sklearn.model_selection import train_test_split\n",
        "from nltk.tokenize import ToktokTokenizer\n",
        "from sklearn.ensemble import RandomForestClassifier\n",
        "from sklearn.metrics import accuracy_score, classification_report\n",
        "from nltk.corpus import wordnet\n",
        "from nltk import pos_tag\n",
        "\n",
        "\n",
        "\n",
        "from sklearn.metrics import accuracy_score, classification_report\n",
        "\n",
        "\n",
        "import os\n",
        "import warnings\n",
        "warnings.filterwarnings('ignore')\n",
        "\n",
        "# Preparing nltk\n",
        "nltk.download('stopwords')\n",
        "nltk.download('punkt')\n",
        "nltk.download('wordnet')\n",
        "nltk.download('averaged_perceptron_tagger')  # For POS tagging, required for lemmatization\n",
        "\n",
        "# Checking the input directory (optional, based on whether you need to list input files)\n",
        "# print(os.listdir(\"../input\"))\n"
      ]
    },
    {
      "cell_type": "markdown",
      "metadata": {
        "_uuid": "be1b642cce343f7a8f68f8c91f7c50372cdf4381",
        "id": "S27lsqajTW9O"
      },
      "source": [
        "**Import the training dataset**"
      ]
    },
    {
      "cell_type": "code",
      "execution_count": 3,
      "metadata": {
        "_uuid": "4c593c17588723c0b0b0f19851cb70a8447ced76",
        "colab": {
          "base_uri": "https://localhost:8080/",
          "height": 380
        },
        "id": "EPcJkkg1TW9P",
        "outputId": "1d503d15-b28a-4b67-d764-1b69ee036060",
        "scrolled": true,
        "trusted": true
      },
      "outputs": [
        {
          "name": "stdout",
          "output_type": "stream",
          "text": [
            "(50000, 2)\n"
          ]
        },
        {
          "data": {
            "text/html": [
              "<div>\n",
              "<style scoped>\n",
              "    .dataframe tbody tr th:only-of-type {\n",
              "        vertical-align: middle;\n",
              "    }\n",
              "\n",
              "    .dataframe tbody tr th {\n",
              "        vertical-align: top;\n",
              "    }\n",
              "\n",
              "    .dataframe thead th {\n",
              "        text-align: right;\n",
              "    }\n",
              "</style>\n",
              "<table border=\"1\" class=\"dataframe\">\n",
              "  <thead>\n",
              "    <tr style=\"text-align: right;\">\n",
              "      <th></th>\n",
              "      <th>review</th>\n",
              "      <th>sentiment</th>\n",
              "    </tr>\n",
              "  </thead>\n",
              "  <tbody>\n",
              "    <tr>\n",
              "      <th>0</th>\n",
              "      <td>One of the other reviewers has mentioned that ...</td>\n",
              "      <td>positive</td>\n",
              "    </tr>\n",
              "    <tr>\n",
              "      <th>1</th>\n",
              "      <td>A wonderful little production. &lt;br /&gt;&lt;br /&gt;The...</td>\n",
              "      <td>positive</td>\n",
              "    </tr>\n",
              "    <tr>\n",
              "      <th>2</th>\n",
              "      <td>I thought this was a wonderful way to spend ti...</td>\n",
              "      <td>positive</td>\n",
              "    </tr>\n",
              "    <tr>\n",
              "      <th>3</th>\n",
              "      <td>Basically there's a family where a little boy ...</td>\n",
              "      <td>negative</td>\n",
              "    </tr>\n",
              "    <tr>\n",
              "      <th>4</th>\n",
              "      <td>Petter Mattei's \"Love in the Time of Money\" is...</td>\n",
              "      <td>positive</td>\n",
              "    </tr>\n",
              "    <tr>\n",
              "      <th>5</th>\n",
              "      <td>Probably my all-time favorite movie, a story o...</td>\n",
              "      <td>positive</td>\n",
              "    </tr>\n",
              "    <tr>\n",
              "      <th>6</th>\n",
              "      <td>I sure would like to see a resurrection of a u...</td>\n",
              "      <td>positive</td>\n",
              "    </tr>\n",
              "    <tr>\n",
              "      <th>7</th>\n",
              "      <td>This show was an amazing, fresh &amp; innovative i...</td>\n",
              "      <td>negative</td>\n",
              "    </tr>\n",
              "    <tr>\n",
              "      <th>8</th>\n",
              "      <td>Encouraged by the positive comments about this...</td>\n",
              "      <td>negative</td>\n",
              "    </tr>\n",
              "    <tr>\n",
              "      <th>9</th>\n",
              "      <td>If you like original gut wrenching laughter yo...</td>\n",
              "      <td>positive</td>\n",
              "    </tr>\n",
              "  </tbody>\n",
              "</table>\n",
              "</div>"
            ],
            "text/plain": [
              "                                              review sentiment\n",
              "0  One of the other reviewers has mentioned that ...  positive\n",
              "1  A wonderful little production. <br /><br />The...  positive\n",
              "2  I thought this was a wonderful way to spend ti...  positive\n",
              "3  Basically there's a family where a little boy ...  negative\n",
              "4  Petter Mattei's \"Love in the Time of Money\" is...  positive\n",
              "5  Probably my all-time favorite movie, a story o...  positive\n",
              "6  I sure would like to see a resurrection of a u...  positive\n",
              "7  This show was an amazing, fresh & innovative i...  negative\n",
              "8  Encouraged by the positive comments about this...  negative\n",
              "9  If you like original gut wrenching laughter yo...  positive"
            ]
          },
          "execution_count": 3,
          "metadata": {},
          "output_type": "execute_result"
        }
      ],
      "source": [
        "#importing the training data\n",
        "imdb_data=pd.read_csv('IMDB Dataset.csv')\n",
        "print(imdb_data.shape)\n",
        "imdb_data.head(10)\n"
      ]
    },
    {
      "cell_type": "markdown",
      "metadata": {
        "_uuid": "1ad3773974351ed9bdf389b2847d7475b36c2295",
        "id": "aAItefkaTW9P"
      },
      "source": [
        "**Exploratery data analysis**"
      ]
    },
    {
      "cell_type": "code",
      "execution_count": 4,
      "metadata": {
        "_uuid": "7f11c83b1320c8982b36889145f7f770563674a8",
        "colab": {
          "base_uri": "https://localhost:8080/",
          "height": 175
        },
        "id": "Xg1IoIKbTW9P",
        "outputId": "ec0cde78-433d-43e8-ea69-371ceea94b58",
        "trusted": true
      },
      "outputs": [
        {
          "data": {
            "text/html": [
              "<div>\n",
              "<style scoped>\n",
              "    .dataframe tbody tr th:only-of-type {\n",
              "        vertical-align: middle;\n",
              "    }\n",
              "\n",
              "    .dataframe tbody tr th {\n",
              "        vertical-align: top;\n",
              "    }\n",
              "\n",
              "    .dataframe thead th {\n",
              "        text-align: right;\n",
              "    }\n",
              "</style>\n",
              "<table border=\"1\" class=\"dataframe\">\n",
              "  <thead>\n",
              "    <tr style=\"text-align: right;\">\n",
              "      <th></th>\n",
              "      <th>review</th>\n",
              "      <th>sentiment</th>\n",
              "    </tr>\n",
              "  </thead>\n",
              "  <tbody>\n",
              "    <tr>\n",
              "      <th>count</th>\n",
              "      <td>50000</td>\n",
              "      <td>50000</td>\n",
              "    </tr>\n",
              "    <tr>\n",
              "      <th>unique</th>\n",
              "      <td>49582</td>\n",
              "      <td>2</td>\n",
              "    </tr>\n",
              "    <tr>\n",
              "      <th>top</th>\n",
              "      <td>Loved today's show!!! It was a variety and not...</td>\n",
              "      <td>positive</td>\n",
              "    </tr>\n",
              "    <tr>\n",
              "      <th>freq</th>\n",
              "      <td>5</td>\n",
              "      <td>25000</td>\n",
              "    </tr>\n",
              "  </tbody>\n",
              "</table>\n",
              "</div>"
            ],
            "text/plain": [
              "                                                   review sentiment\n",
              "count                                               50000     50000\n",
              "unique                                              49582         2\n",
              "top     Loved today's show!!! It was a variety and not...  positive\n",
              "freq                                                    5     25000"
            ]
          },
          "execution_count": 4,
          "metadata": {},
          "output_type": "execute_result"
        }
      ],
      "source": [
        "#Summary of the dataset\n",
        "imdb_data.describe()"
      ]
    },
    {
      "cell_type": "markdown",
      "metadata": {
        "_uuid": "453c3fd238f62ab8f649eb01771817e25bc0c77d",
        "id": "NJhS8ihGTW9Q"
      },
      "source": [
        "**Sentiment count**"
      ]
    },
    {
      "cell_type": "code",
      "execution_count": 5,
      "metadata": {
        "_uuid": "cb6bb97b0f851947dcf341a1de5708a1f2bc64c1",
        "colab": {
          "base_uri": "https://localhost:8080/",
          "height": 453
        },
        "id": "owZOLj_1TW9Q",
        "outputId": "1dc396a9-9ba4-436d-d6d1-f01eb18fb938",
        "trusted": true
      },
      "outputs": [
        {
          "data": {
            "image/png": "[encoded data removed]",
            "text/plain": [
              "<Figure size 800x400 with 1 Axes>"
            ]
          },
          "metadata": {},
          "output_type": "display_data"
        }
      ],
      "source": [
        "##ssuming sentiment_count has already been calculated\n",
        "sentiment_count = imdb_data['sentiment'].value_counts()\n",
        "\n",
        "# Visualizing the sentiment count\n",
        "plt.figure(figsize=(8, 4))\n",
        "sns.barplot(x=sentiment_count.index, y=sentiment_count.values, alpha=0.8)\n",
        "plt.title('Sentiment Count')\n",
        "plt.ylabel('Number of Occurrences', fontsize=12)\n",
        "plt.xlabel('Sentiment', fontsize=12)\n",
        "plt.xticks(rotation=45)  # Rotate labels to ensure they fit well\n",
        "plt.show()\n"
      ]
    },
    {
      "cell_type": "markdown",
      "metadata": {
        "id": "8v6pTGTrTW9Q"
      },
      "source": [
        "We can see that the dataset is balanced."
      ]
    },
    {
      "cell_type": "markdown",
      "metadata": {
        "_uuid": "f61964573faababe1f7897b77d32815a24954d2f",
        "id": "UHaWY8S7TW9Q"
      },
      "source": [
        "**Spliting the training dataset**"
      ]
    },
    {
      "cell_type": "code",
      "execution_count": 6,
      "metadata": {
        "_uuid": "d3aaabff555e07feb11c72cc3a6e457615975ffe",
        "colab": {
          "base_uri": "https://localhost:8080/"
        },
        "id": "NAKfC3xaTW9Q",
        "outputId": "e11035cc-5804-4d8c-8bae-d3295654a579",
        "trusted": true
      },
      "outputs": [
        {
          "name": "stdout",
          "output_type": "stream",
          "text": [
            "Training set size: 6000 reviews\n",
            "Testing set size: 1500 reviews\n"
          ]
        }
      ],
      "source": [
        "\n",
        "# Reduce the dataset to a manageable subset size with stratified sampling\n",
        "_, data_subset = train_test_split(\n",
        "    imdb_data,\n",
        "    stratify=imdb_data['sentiment'],\n",
        "    test_size=7500 / len(imdb_data),  # Adjust this to change the subset size\n",
        "    random_state=42\n",
        ")\n",
        "\n",
        "# Ensure a stratified split into training and testing sets\n",
        "X_train, X_test, y_train, y_test = train_test_split(\n",
        "    data_subset['review'],\n",
        "    data_subset['sentiment'],\n",
        "    test_size=0.2,  # Keeping an 80-20 split for training and testing\n",
        "    random_state=42,\n",
        "    stratify=data_subset['sentiment']\n",
        ")\n",
        "\n",
        "print(f\"Training set size: {X_train.shape[0]} reviews\")\n",
        "print(f\"Testing set size: {X_test.shape[0]} reviews\")\n"
      ]
    },
    {
      "cell_type": "markdown",
      "metadata": {
        "_uuid": "90da29c3b79f46f41d7391a2a116065b616d0fac",
        "id": "oUFb16XATW9R"
      },
      "source": [
        "**Text normalization**"
      ]
    },
    {
      "cell_type": "code",
      "execution_count": 7,
      "metadata": {
        "_uuid": "f000c43d91f68f6668539f089c6a54c5ce3bd819",
        "id": "mJjujqgHTW9R",
        "trusted": true
      },
      "outputs": [],
      "source": [
        "\n",
        "\n",
        "# Download necessary NLTK data (if not already done)\n",
        "\n",
        "\n",
        "# Tokenizer initialization\n",
        "tokenizer = ToktokTokenizer()\n",
        "\n",
        "# Stopword list setup\n",
        "stopword_list = nltk.corpus.stopwords.words('english')\n",
        "\n",
        "# Enhanced preprocessing function including stopword removal\n",
        "def remove_stopwords(text, is_lower_case=False, stopwords=stopword_list):\n",
        "    tokens = tokenizer.tokenize(text)\n",
        "    tokens = [token.strip() for token in tokens]\n",
        "\n",
        "    if is_lower_case:\n",
        "        filtered_tokens = [token for token in tokens if token not in stopwords]\n",
        "    else:\n",
        "        filtered_tokens = [token for token in tokens if token.lower() not in stopwords]\n",
        "\n",
        "    filtered_text = ' '.join(filtered_tokens)\n",
        "    return filtered_text\n",
        "\n",
        "\n"
      ]
    },
    {
      "cell_type": "markdown",
      "metadata": {
        "_uuid": "328b6e5977da3e055ad4b2e11a31e5e12ccf3b16",
        "id": "WUjWxm_wTW9R"
      },
      "source": [
        "**Removing html strips and noise text**"
      ]
    },
    {
      "cell_type": "code",
      "execution_count": 8,
      "metadata": {
        "_uuid": "6f6fcafbdadcdcb0c164e37d71fb9d1623f74d0a",
        "id": "fp_IKQnJTW9R",
        "trusted": true
      },
      "outputs": [],
      "source": [
        "\n",
        "# Function to remove HTML content\n",
        "def strip_html(text):\n",
        "    soup = BeautifulSoup(text, \"html.parser\")\n",
        "    return soup.get_text()\n",
        "\n",
        "# Function to remove content within square brackets\n",
        "def remove_between_square_brackets(text):\n",
        "    return re.sub(r'\\[[^]]*\\]', '', text)\n",
        "\n",
        "# Function to remove special characters and digits\n",
        "def remove_special_characters(text, remove_digits=True):\n",
        "    pattern = r'[^a-zA-Z\\s]' if not remove_digits else r'[^a-zA-Z0-9\\s]'\n",
        "    text = re.sub(pattern, '', text)\n",
        "    return text\n",
        "\n",
        "# Function to denoise text by applying all the above\n",
        "def denoise_text(text):\n",
        "    text = strip_html(text)\n",
        "    text = remove_between_square_brackets(text)\n",
        "    text = remove_special_characters(text)\n",
        "    return text\n",
        "\n",
        "# Apply the denoising function on the review column\n",
        "imdb_data['review'] = imdb_data['review'].apply(denoise_text)\n"
      ]
    },
    {
      "cell_type": "markdown",
      "metadata": {
        "_uuid": "3b66eeabd5b7b8c251f8b8ddf331140a64bcd514",
        "id": "V4IVOB2tTW9S"
      },
      "source": [
        "**Text stemming\n",
        "**"
      ]
    },
    {
      "cell_type": "code",
      "execution_count": 9,
      "metadata": {
        "_uuid": "2295f2946e0ab74c220ad538d0e7adc04d23f697",
        "id": "REzYVTnvTW9S",
        "trusted": true
      },
      "outputs": [],
      "source": [
        "lemmatizer = WordNetLemmatizer()\n",
        "\n",
        "# Helper function to convert nltk tag to wordnet tag\n",
        "def get_wordnet_pos(treebank_tag):\n",
        "    if treebank_tag.startswith('J'):\n",
        "        return wordnet.ADJ\n",
        "    elif treebank_tag.startswith('V'):\n",
        "        return wordnet.VERB\n",
        "    elif treebank_tag.startswith('N'):\n",
        "        return wordnet.NOUN\n",
        "    elif treebank_tag.startswith('R'):\n",
        "        return wordnet.ADV\n",
        "    else:\n",
        "        return None\n",
        "\n",
        "# Function for lemmatizing text with POS tagging\n",
        "def lemmatize_text(text):\n",
        "    word_tokens = word_tokenize(text)\n",
        "    pos_tagged_tokens = pos_tag(word_tokens)\n",
        "    lemmatized_words = [\n",
        "        lemmatizer.lemmatize(word, get_wordnet_pos(pos_tag) or wordnet.NOUN)\n",
        "        for word, pos_tag in pos_tagged_tokens\n",
        "    ]\n",
        "    return ' '.join(lemmatized_words)\n",
        "\n",
        "# Apply the lemmatization function on the review column\n",
        "imdb_data['review'] = imdb_data['review'].apply(lemmatize_text)\n"
      ]
    },
    {
      "cell_type": "markdown",
      "metadata": {
        "_uuid": "b35e7499291173119ed42287deac6f0cd96516e1",
        "id": "4fBiboz8TW9T"
      },
      "source": [
        "**Normalized train reviews**"
      ]
    },
    {
      "cell_type": "code",
      "execution_count": 10,
      "metadata": {
        "_kg_hide-output": true,
        "_uuid": "b20c242bd091929ca896ea2c6e936ca00efe6ecf",
        "colab": {
          "base_uri": "https://localhost:8080/"
        },
        "id": "keRv9ysyTW9T",
        "outputId": "173a9147-742a-46cc-ba23-d3c48d21ec1a",
        "trusted": true
      },
      "outputs": [
        {
          "name": "stdout",
          "output_type": "stream",
          "text": [
            "First review from training set: I catch this little gem totally by accident back in 1980 or 81 I be at a revival theatre to see two old silly scifi movie The theatre be pack full and with no warning they show a bunch of scifi short spoof to get u in the mood Most be somewhat amuse but THIS come on and within second the audience be in hysteric The big laugh come when they show Princess Laia have huge cinnamon bun instead of hair on her head She look at the camera give a grim smile and nod That make it even funnier You get ta see Chewabacca play by what look like a Muppet It be extremely silly and stupidbut I couldnt stop laugh Most of the dialogue be drown out because of all the laughter Also if you know Star Wars pretty well it even funnierthey deliberately poke fun at some of the dialogue This REALLY work with an audience A definite 10\n",
            "A review from the testing set: Leon Errol handle his double role of Uncle Matt Lindsay and Lord Basil Epping superbly but I have trouble like the Mexican Spitfire Series because they all be contrive to produce mistaken identity and these be telegraphed way in advance Errol be funny a the stuffy Lord Epping but I would have prefer a lot more wit and much less repetition\n"
          ]
        }
      ],
      "source": [
        "\n",
        "\n",
        "# Assuming imdb_data has already been preprocessed\n",
        "X = imdb_data['review']\n",
        "y = imdb_data['sentiment']\n",
        "\n",
        "# Stratified split to ensure the training and testing sets have similar sentiment distributions\n",
        "X_train, X_test, y_train, y_test = train_test_split(\n",
        "    X, y,\n",
        "    test_size=0.2,  # Assuming an 80-20 split for training and testing\n",
        "    random_state=42,  # Ensures reproducibility of your splits\n",
        "    stratify=y  # Ensures train and test sets have similar distributions of sentiment classes\n",
        ")\n",
        "\n",
        "# Displaying the first review from the training and testing datasets\n",
        "print(\"First review from training set:\", X_train.iloc[0])\n",
        "print(\"A review from the testing set:\", X_test.iloc[-1])  # Example; could be any index\n"
      ]
    },
    {
      "cell_type": "markdown",
      "metadata": {
        "_uuid": "1c2a872ffcb6b8076fdbbba641af12081b6022ef",
        "id": "JhQAJIDVTW9U"
      },
      "source": [
        "**Bags of words model **\n",
        "\n",
        "For Features Extraction\n"
      ]
    },
    {
      "cell_type": "code",
      "execution_count": 11,
      "metadata": {
        "_uuid": "35cf9dcefb40b2dc520c5b0d559695324c46cc04",
        "colab": {
          "base_uri": "https://localhost:8080/"
        },
        "id": "pBwe3LaFTW9U",
        "outputId": "05f4e0e3-c1f5-4c42-f0cc-e4cd41581509",
        "trusted": true
      },
      "outputs": [
        {
          "name": "stdout",
          "output_type": "stream",
          "text": [
            "BOW_cv_train: (40000, 359586)\n",
            "BOW_cv_test: (10000, 359586)\n"
          ]
        }
      ],
      "source": [
        "\n",
        "\n",
        "# CountVectorizer for bag of words\n",
        "cv = CountVectorizer(min_df=5, max_df=0.9, binary=False, ngram_range=(1, 3))\n",
        "\n",
        "# Transformed train reviews\n",
        "cv_train_reviews = cv.fit_transform(X_train)\n",
        "\n",
        "# Transformed test reviews\n",
        "cv_test_reviews = cv.transform(X_test)\n",
        "\n",
        "print('BOW_cv_train:', cv_train_reviews.shape)\n",
        "print('BOW_cv_test:', cv_test_reviews.shape)\n",
        "\n",
        "# To get feature names\n",
        "vocab = cv.get_feature_names_out()  # Updated method for getting feature names\n"
      ]
    },
    {
      "cell_type": "markdown",
      "metadata": {
        "_uuid": "52371868f05ff9cf157280c5acf0f5bc71ee176d",
        "id": "A_5bhHNXTW9U"
      },
      "source": [
        "**Term Frequency-Inverse Document Frequency model (TFIDF)**\n",
        "\n",
        "It is used to convert text documents to  matrix of  tfidf features."
      ]
    },
    {
      "cell_type": "code",
      "execution_count": 12,
      "metadata": {
        "_uuid": "afe6de957339921e05a6faeaf731f2272fd31946",
        "colab": {
          "base_uri": "https://localhost:8080/"
        },
        "id": "A1K-KXwLTW9U",
        "outputId": "bd95a0f4-d636-412f-c8d0-c1ac4b608878",
        "scrolled": false,
        "trusted": true
      },
      "outputs": [
        {
          "name": "stdout",
          "output_type": "stream",
          "text": [
            "Tfidf_train: (40000, 359586)\n",
            "Tfidf_test: (10000, 359586)\n"
          ]
        }
      ],
      "source": [
        "\n",
        "\n",
        "# TfidfVectorizer for feature extraction\n",
        "tv = TfidfVectorizer(min_df=5, max_df=0.9, use_idf=True, ngram_range=(1, 3))\n",
        "\n",
        "# Transformed train reviews\n",
        "tv_train_reviews = tv.fit_transform(X_train)  # Use X_train from the stratified split\n",
        "\n",
        "# Transformed test reviews\n",
        "tv_test_reviews = tv.transform(X_test)  # Use X_test from the stratified split\n",
        "\n",
        "print('Tfidf_train:', tv_train_reviews.shape)\n",
        "print('Tfidf_test:', tv_test_reviews.shape)\n"
      ]
    },
    {
      "cell_type": "markdown",
      "metadata": {
        "_uuid": "803e92b25faa738b10928a91de72d177d8dddf85",
        "id": "YHvekGvFTW9V"
      },
      "source": [
        "**Labeling the sentiment text**"
      ]
    },
    {
      "cell_type": "code",
      "execution_count": 13,
      "metadata": {
        "_uuid": "60f5d496ce4109d1cdbf08f4284d4d26efd93922",
        "colab": {
          "base_uri": "https://localhost:8080/"
        },
        "id": "7Ousj7qcTW9V",
        "outputId": "1acd3ead-cbd0-4555-a10f-4d144b995375",
        "trusted": true
      },
      "outputs": [
        {
          "name": "stdout",
          "output_type": "stream",
          "text": [
            "y_train_binarized shape: (40000, 1)\n",
            "y_test_binarized shape: (10000, 1)\n"
          ]
        }
      ],
      "source": [
        "\n",
        "\n",
        "# Initialize the LabelBinarizer\n",
        "lb = LabelBinarizer()\n",
        "\n",
        "# Transforming sentiment data for both training and testing sets\n",
        "y_train_binarized = lb.fit_transform(y_train)\n",
        "y_test_binarized = lb.transform(y_test)\n",
        "\n",
        "print('y_train_binarized shape:', y_train_binarized.shape)\n",
        "print('y_test_binarized shape:', y_test_binarized.shape)\n"
      ]
    },
    {
      "cell_type": "markdown",
      "metadata": {
        "_uuid": "21a80c94fb42e14391c627710c5d796c40aa7dde",
        "id": "T56P8-viTW9V"
      },
      "source": [
        "**Split the sentiment tdata**"
      ]
    },
    {
      "cell_type": "code",
      "execution_count": 14,
      "metadata": {
        "_kg_hide-output": true,
        "_uuid": "ca1e4cc917265ac98a72c37cffe57f27e9897408",
        "colab": {
          "base_uri": "https://localhost:8080/"
        },
        "id": "KoQHMI1KTW9V",
        "outputId": "797dd5ba-e72f-4619-8a78-41ee89ec508e",
        "trusted": true
      },
      "outputs": [
        {
          "name": "stdout",
          "output_type": "stream",
          "text": [
            "Train sentiments shape: (40000, 1)\n",
            "Test sentiments shape: (10000, 1)\n",
            "First few training sentiments: [[1]\n",
            " [0]\n",
            " [0]\n",
            " [0]\n",
            " [0]]\n",
            "First few testing sentiments: [[0]\n",
            " [0]\n",
            " [1]\n",
            " [0]\n",
            " [0]]\n"
          ]
        }
      ],
      "source": [
        "# y_train_binarized and y_test_binarized are already defined as shown previously\n",
        "\n",
        "# These variables now correctly represent your sentiment labels for training and testing\n",
        "train_sentiments = y_train_binarized\n",
        "test_sentiments = y_test_binarized\n",
        "\n",
        "# Displaying the shapes of the sentiment arrays to confirm the split\n",
        "print('Train sentiments shape:', train_sentiments.shape)\n",
        "print('Test sentiments shape:', test_sentiments.shape)\n",
        "\n",
        "# Optional: Displaying the first few sentiment labels from the training and testing sets\n",
        "print('First few training sentiments:', train_sentiments[:5])\n",
        "print('First few testing sentiments:', test_sentiments[:5])\n"
      ]
    },
    {
      "cell_type": "markdown",
      "metadata": {
        "id": "P8RT7HusbY9y"
      },
      "source": [
        "###Hybrid Model"
      ]
    },
    {
      "cell_type": "code",
      "execution_count": 15,
      "metadata": {
        "colab": {
          "base_uri": "https://localhost:8080/",
          "height": 211
        },
        "id": "gUWSYBRiSFVG",
        "outputId": "1b381298-9fa9-4a4a-e604-b7276b2d6308"
      },
      "outputs": [
        {
          "name": "stdout",
          "output_type": "stream",
          "text": [
            "Hybrid Model Accuracy: 0.9078\n",
            "\n",
            "Hybrid Model Classification Report:\n",
            "               precision    recall  f1-score   support\n",
            "\n",
            "           0       0.91      0.90      0.91      5000\n",
            "           1       0.90      0.91      0.91      5000\n",
            "\n",
            "    accuracy                           0.91     10000\n",
            "   macro avg       0.91      0.91      0.91     10000\n",
            "weighted avg       0.91      0.91      0.91     10000\n",
            "\n"
          ]
        }
      ],
      "source": [
        "\n",
        "from sklearn.metrics import accuracy_score\n",
        "from sklearn.ensemble import RandomForestClassifier, VotingClassifier\n",
        "random_forest_model = RandomForestClassifier(random_state=42)\n",
        "svm_model = SVC(random_state=42, probability=True)\n",
        "logistic_regression_model = LogisticRegression(random_state=42, max_iter=50)  # Increase max_iter if needed\n",
        "\n",
        "hybrid_model = VotingClassifier(estimators=[\n",
        "    ('rf', random_forest_model),\n",
        "    ('svm', svm_model),\n",
        "    ('lr', logistic_regression_model)],\n",
        "    voting='soft')\n",
        "\n",
        "#Training Model\n",
        "hybrid_model.fit(cv_train_reviews, train_sentiments.ravel())\n",
        "\n",
        "\n",
        "# Making predictions\n",
        "hybrid_predictions = hybrid_model.predict(cv_test_reviews)\n",
        "\n",
        "# Evaluating the model\n",
        "print(\"Hybrid Model Accuracy:\", accuracy_score(test_sentiments, hybrid_predictions))\n",
        "print(\"\\nHybrid Model Classification Report:\\n\", classification_report(test_sentiments, hybrid_predictions))\n"
      ]
    },
    {
      "cell_type": "markdown",
      "metadata": {
        "id": "Av9sk2GSeuTu"
      },
      "source": [
        "###Saving our Model"
      ]
    },
    {
      "cell_type": "code",
      "execution_count": 17,
      "metadata": {
        "id": "ZKXPTjyBZ6q5"
      },
      "outputs": [],
      "source": [
        "import pickle\n",
        "\n",
        "# Saving trained 'hybrid_model' \n",
        "with open('hybrid_model.pkl', 'wb') as file:\n",
        "    pickle.dump(hybrid_model, file)\n"
      ]
    },
    {
      "cell_type": "markdown",
      "metadata": {},
      "source": [
        "### Random Forest Model\n"
      ]
    },
    {
      "cell_type": "code",
      "execution_count": null,
      "metadata": {},
      "outputs": [],
      "source": [
        "\n",
        "rf_model = RandomForestClassifier(n_estimators=100, max_depth=None, random_state=42)\n",
        "rf_model.fit(cv_train_reviews, train_sentiments.ravel())\n",
        "\n",
        "rf_predictions = rf_model.predict(cv_test_reviews)\n",
        "print(\"Random Forest Accuracy:\", accuracy_score(test_sentiments, rf_predictions))\n",
        "print(\"\\nRandom Forest Classification Report:\\n\", classification_report(test_sentiments, rf_predictions))"
      ]
    },
    {
      "cell_type": "markdown",
      "metadata": {},
      "source": [
        "### SVM MODEL"
      ]
    },
    {
      "cell_type": "code",
      "execution_count": 22,
      "metadata": {},
      "outputs": [],
      "source": [
        "#svm_model = SVC(C=1.0, kernel='rbf', gamma='scale', probability=True, random_state=42)\n",
        "\n",
        "#svm_model.fit(cv_train_reviews, train_sentiments.ravel())\n",
        "#svm_predictions = svm_model.predict(cv_test_reviews)\n",
        "#print(\"SVM Accuracy:\", accuracy_score(test_sentiments, svm_predictions))\n",
        "#print(\"\\nSVM Classification Report:\\n\", classification_report(test_sentiments, svm_predictions))"
      ]
    },
    {
      "cell_type": "markdown",
      "metadata": {},
      "source": [
        "### Logistic Regression Model"
      ]
    },
    {
      "cell_type": "code",
      "execution_count": null,
      "metadata": {},
      "outputs": [],
      "source": [
        "#lr_model = LogisticRegression(C=1.0, max_iter=1000, solver='liblinear', penalty='l2', random_state=42)\n",
        "#lr_model.fit(cv_train_reviews, train_sentiments.ravel())\n",
        "#lr_predictions = lr_model.predict(cv_test_reviews)\n",
        "#print(\"Logistic Regression Accuracy:\", accuracy_score(test_sentiments, lr_predictions))\n",
        "#print(\"\\nLogistic Regression Classification Report:\\n\", classification_report(test_sentiments, lr_predictions))"
      ]
    },
    {
      "cell_type": "markdown",
      "metadata": {
        "id": "DIQGOvozeylK"
      },
      "source": [
        "###Visualization using AUC and ROC"
      ]
    },
    {
      "cell_type": "code",
      "execution_count": 22,
      "metadata": {
        "colab": {
          "base_uri": "https://localhost:8080/",
          "height": 211
        },
        "id": "S-0-z5Mwesct",
        "outputId": "e3a5bf1c-2623-4eac-a62b-87191c8f52db"
      },
      "outputs": [
        {
          "data": {
            "image/png": "[encoded data removed]",
            "text/plain": [
              "<Figure size 800x600 with 1 Axes>"
            ]
          },
          "metadata": {},
          "output_type": "display_data"
        },
        {
          "name": "stdout",
          "output_type": "stream",
          "text": [
            "AUC: 0.96595552\n"
          ]
        }
      ],
      "source": [
        "import matplotlib.pyplot as plt\n",
        "import seaborn as sns\n",
        "from sklearn.metrics import confusion_matrix, roc_curve, auc\n",
        "\n",
        "# Step 1: Generate predictions and probabilities\n",
        "hybrid_predictions = hybrid_model.predict(cv_test_reviews)\n",
        "hybrid_probabilities = hybrid_model.predict_proba(cv_test_reviews)[:, 1]  # For ROC curve, we need probabilities for positive class\n",
        "\n",
        "\n",
        "# Step 2: Plot the ROC curve\n",
        "fpr, tpr, thresholds = roc_curve(test_sentiments, hybrid_probabilities, pos_label=1)\n",
        "roc_auc = auc(fpr, tpr)\n",
        "\n",
        "plt.figure(figsize=(8, 6))\n",
        "plt.plot(fpr, tpr, color='blue', lw=2, label='ROC curve (AUC = %0.2f)' % roc_auc)\n",
        "plt.plot([0, 1], [0, 1], color='red', lw=2, linestyle='--')\n",
        "plt.xlim([0.0, 1.0])\n",
        "plt.ylim([0.0, 1.05])\n",
        "plt.xlabel('False Positive Rate')\n",
        "plt.ylabel('True Positive Rate')\n",
        "plt.title('Receiver Operating Characteristic (ROC) Curve')\n",
        "plt.legend(loc='lower right')\n",
        "plt.show()\n",
        "\n",
        "print(\"AUC:\", roc_auc)\n"
      ]
    },
    {
      "cell_type": "code",
      "execution_count": null,
      "metadata": {},
      "outputs": [],
      "source": []
    }
  ],
  "metadata": {
    "colab": {
      "provenance": []
    },
    "kernelspec": {
      "display_name": "Python 3",
      "name": "python3"
    },
    "language_info": {
      "codemirror_mode": {
        "name": "ipython",
        "version": 3
      },
      "file_extension": ".py",
      "mimetype": "text/x-python",
      "name": "python",
      "nbconvert_exporter": "python",
      "pygments_lexer": "ipython3",
      "version": "3.11.7"
    }
  },
  "nbformat": 4,
  "nbformat_minor": 0
}
